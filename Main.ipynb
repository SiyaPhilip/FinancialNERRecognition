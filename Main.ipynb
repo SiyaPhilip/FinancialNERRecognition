{
 "cells": [
  {
   "cell_type": "code",
   "execution_count": 5,
   "metadata": {},
   "outputs": [],
   "source": [
    "\n",
    "\n",
    "TRAIN_DATA = [\n",
    "    [\"My name is Siya Philip.\",{\"entities\": [[11, 22, \"FULL_NAME\"]]}],\n",
    "    [\"People also call me Siya.\",{\"entities\": [[20, 24, \"FULL_NAME\"]]}],\n",
    "    [\"I have a friend named Hannah O'Gallachoir. She is also my manager at work.\",{\"entities\": [[22, 41, \"FULL_NAME\"],[58, 65, \"JOB_TITLE\"]]}],\n",
    "    [\"My friends name is John Doe.\", {\"entities\": [[19, 27, \"FULL_NAME\"]]}],\n",
    "    [\"Jane is my neighbor.\", {\"entities\": [[0, 4, \"FULL_NAME\"]]}],\n",
    "    [\"I'm meeting with Alex Johnson tomorrow.\", {\"entities\": [[17, 29, \"FULL_NAME\"]]}],\n",
    "    [\"My colleague Sarah Brown will be joining the meeting.\", {\"entities\": [[13, 24, \"FULL_NAME\"]]}],\n",
    "    [\"Emily Taylor is the CEO of the company.\", {\"entities\": [[0, 12, \"FULL_NAME\"], [20, 23, \"JOB_TITLE\"]]}],\n",
    "    [\"My best friend is Tom Hanks.\", {\"entities\": [[18, 27, \"FULL_NAME\"]]}],\n",
    "    [\"I'm going out with Emma Watson.\", {\"entities\": [[19, 30, \"FULL_NAME\"]]}],\n",
    "    [\"James Bond is a famous spy.\", {\"entities\": [[0, 10, \"FULL_NAME\"]]}],\n",
    "    [\"Linda Clark is the head of HR.\", {\"entities\": [[0, 11, \"FULL_NAME\"], [27, 29, \"JOB_TITLE\"]]}],\n",
    "    [\"My doctor is Dr. Michael Smith.\", {\"entities\": [[17, 30, \"FULL_NAME\"]]}],\n",
    "\n",
    "    [\"Her Name is Hannha.\",{\"entities\": [[12, 18, \"FULL_NAME\"]]}],\n",
    "    [\"His Name is John.\",{\"entities\": [[12, 16, \"FULL_NAME\"]]}],\n",
    "    [\"Her Name is Kavya.\",{\"entities\": [[12, 17, \"FULL_NAME\"]]}],\n",
    "    [\"His Name is Ravi.\",{\"entities\": [[12, 16, \"FULL_NAME\"]]}],\n",
    "    [\"His Name is Robbie.\",{\"entities\": [[12, 18, \"FULL_NAME\"]]}],\n",
    "    [\"Her Name is Lissa.\",{\"entities\": [[12, 17, \"FULL_NAME\"]]}],\n",
    "    [\"Her Name is Tina.\",{\"entities\": [[12, 16, \"FULL_NAME\"]]}],\n",
    "    [\"Her Name is Tammy.\",{\"entities\": [[12, 17, \"FULL_NAME\"]]}],\n",
    "    [\"His Name is Nelson.\",{\"entities\": [[12, 18, \"FULL_NAME\"]]}],\n",
    "    [\"Her Name is Hayley.\",{\"entities\": [[12, 18, \"FULL_NAME\"]]}],\n",
    "    [\"His Name is Patrick.\",{\"entities\": [[12, 19, \"FULL_NAME\"]]}],\n",
    "    \n",
    "    [\"Address: 1 Donegall Square West, Belfast, BT1 6JH \", {\"entities\": [[9, 48, \"ADDRESS\"]]}],\n",
    "    [\"Address: 18 Ormeau Avenue, Belfast, BT2 8HS \", {\"entities\": [[9, 42, \"ADDRESS\"]]}],\n",
    "    [\"Address: 10 Castle Lane, Belfast, BT1 5DA\", {\"entities\": [[9, 40, \"ADDRESS\"]]}],\n",
    "    [\"Address: 21 Linenhall Street, Belfast, BT2 8BS \", {\"entities\": [[9, 45, \"ADDRESS\"]]}],\n",
    "    [\"Address: 9 Malone Road, Belfast, BT9 6RT \", {\"entities\": [[9, 39, \"ADDRESS\"]]}],\n",
    "    [\"Address: 2 Stranmillis Road, Belfast, BT9 5AA \", {\"entities\": [[9, 44, \"ADDRESS\"]]}],\n",
    "    [\"Address: 35 Church Lane, Belfast, BT1 4QN \", {\"entities\": [[9, 40, \"ADDRESS\"]]}],\n",
    "    [\"Address: 6 Howard Street, Belfast, BT1 6NB \", {\"entities\": [[9, 41, \"ADDRESS\"]]}],\n",
    "    [\"Address: 14 University Road, Belfast, BT7 1GY \", {\"entities\": [[9, 44, \"ADDRESS\"]]}],\n",
    "    [\"Address: 3 Queen Street, Belfast, BT1 6EA \", {\"entities\": [[9, 40, \"ADDRESS\"]]}],\n",
    "    [\"Address: 22 Bedford Street, Belfast, BT2 7FE \", {\"entities\": [[9, 43, \"ADDRESS\"]]}],\n",
    "    [\"Address: 7 Botanic Avenue, Belfast, BT7 1JG \", {\"entities\": [[9, 42, \"ADDRESS\"]]}],\n",
    "    [\"Address: 29 Arthur Street, Belfast, BT1 4GQ \", {\"entities\": [[9, 42, \"ADDRESS\"]]}],\n",
    "    [\"Address: 11-16 Donegall Square East, Belfast, BT1 5UB \", {\"entities\": [[9, 52, \"ADDRESS\"]]}],\n",
    "    [\"Address: 4-6 Waring Street, Belfast, BT1 2DX \", {\"entities\": [[9, 43, \"ADDRESS\"]]}],\n",
    "    [\"Address: 19 Victoria Street, Belfast, BT1 3GA \", {\"entities\": [[9, 44, \"ADDRESS\"]]}],\n",
    "    [\"Address: 44 Hill Street, Belfast, BT1 2LB \", {\"entities\": [[9, 40, \"ADDRESS\"]]}],\n",
    "    [\"Address: 8 Donegall Square North, Belfast, BT1 5GB \", {\"entities\": [[9, 49, \"ADDRESS\"]]}],\n",
    "    [\"Address: 16 Royal Avenue, Belfast, BT1 1DA \", {\"entities\": [[9, 41, \"ADDRESS\"]]}],\n",
    "    [\"Address: 2 Arthur Square, Belfast, BT1 4FB \", {\"entities\": [[9, 41, \"ADDRESS\"]]}],\n",
    "    [\"Address: 25 Donegall Place, Belfast, BT1 5AA \", {\"entities\": [[9, 43, \"ADDRESS\"]]}],\n",
    "    [\"Address: 13 Bedford Street, Belfast, BT2 7FF \", {\"entities\": [[9, 43, \"ADDRESS\"]]}],\n",
    "    [\"Address: 36-38 High Street, Belfast, BT1 2BE \", {\"entities\": [[9, 43, \"ADDRESS\"]]}],\n",
    "    [\"Address: 1 Victoria Square, Belfast, BT1 4QG \", {\"entities\": [[9, 43, \"ADDRESS\"]]}],\n",
    "    [\"Address: 9 Hill Street, Belfast, BT1 2LA \", {\"entities\": [[9, 39, \"ADDRESS\"]]}],\n",
    "    [\"John Doe lives at 71 Meadowlands, Downpatrick, BT306HG.\", {\"entities\": [[0, 7, \"FULL_NAME\"], [18, 53, \"ADDRESS\"]]}],\n",
    "    [\"Siya Philip lives at 7 Patricks Road, Carryduff, Belfast, BT14DG.\", {\"entities\": [[0, 10, \"FULL_NAME\"], [21, 63, \"ADDRESS\"]]}],\n",
    "    [\"Avanti Sharma lives at 21 Ashley Avenue, Saintfield, Belfast, BT36PO.\", {\"entities\": [[0, 12, \"FULL_NAME\"], [23, 67, \"ADDRESS\"]]}],\n",
    "    [\"Jamie lives at 46 Heylew, Crossgar, BT306HG.\", {\"entities\": [[0, 4, \"FULL_NAME\"], [15, 42, \"ADDRESS\"]]}],\n",
    "    [\"Robert lives at 34 whitehead, Belfast, BT306HG.\", {\"entities\": [[0, 5, \"FULL_NAME\"], [16, 45, \"ADDRESS\"]]}],\n",
    "    [\"Emma Smith lives at 12 Primrose Lane, Downpatrick, BT306HG.\", {\"entities\": [[0, 9, \"FULL_NAME\"], [20, 57, \"ADDRESS\"]]}],\n",
    "    [\"Michael Johnson lives at 9 Elm Street, Carryduff, Belfast, BT14DG.\", {\"entities\": [[0, 14, \"FULL_NAME\"], [25, 64, \"ADDRESS\"]]}],\n",
    "    [\"Sophia Patel lives at 28 Maple Avenue, Saintfield, Belfast, BT36PO.\", {\"entities\": [[0, 11, \"FULL_NAME\"], [22, 65, \"ADDRESS\"]]}],\n",
    "    [\"Oliver Davis lives at 63 Oakwood Drive, Crossgar, BT306HG.\", {\"entities\": [[0, 11, \"FULL_NAME\"], [22, 56, \"ADDRESS\"]]}],\n",
    "    [\"Isabella Brown lives at 17 Cedar Road, Belfast, BT306HG.\", {\"entities\": [[0, 13, \"FULL_NAME\"], [24, 54, \"ADDRESS\"]]}],\n",
    "    [\"William Jones lives at 8 Birch Street, Downpatrick, BT306HG.\", {\"entities\": [[0, 12, \"FULL_NAME\"], [23, 58, \"ADDRESS\"]]}],\n",
    "    [\"Ella Wilson lives at 5 Ash Lane, Carryduff, Belfast, BT14DG.\", {\"entities\": [[0, 10, \"FULL_NAME\"], [13, 50, \"ADDRESS\"]]}],\n",
    "    [\"Noah Taylor Smith lives at 37 Pine Road, Saintfield, Belfast, BT36PO.\", {\"entities\": [[0, 16, \"FULL_NAME\"], [27, 67, \"ADDRESS\"]]}],\n",
    "    [\"Charlotte Martin John lives at 24 Sycamore Drive, Crossgar, BT306HG.\", {\"entities\": [[0, 20, \"FULL_NAME\"], [31, 66, \"ADDRESS\"]]}],\n",
    "    [\"Jacob Thomas Alvin lives at 10 Chestnut Close, Belfast, BT306HG.\", {\"entities\": [[0, 17, \"FULL_NAME\"], [28, 62, \"ADDRESS\"]]}]\n",
    "   \n",
    "   \n",
    "]"
   ]
  },
  {
   "cell_type": "code",
   "execution_count": 6,
   "metadata": {},
   "outputs": [
    {
     "name": "stderr",
     "output_type": "stream",
     "text": [
      "100%|██████████| 64/64 [00:00<00:00, 2210.64it/s]"
     ]
    },
    {
     "name": "stdout",
     "output_type": "stream",
     "text": [
      "Skipping entity\n",
      "Skipping entity\n",
      "Current folder path: c:\\Users\\HP\\Desktop\\Project\n"
     ]
    },
    {
     "name": "stderr",
     "output_type": "stream",
     "text": [
      "\n"
     ]
    }
   ],
   "source": [
    "import pandas as pd\n",
    "import os\n",
    "from tqdm import tqdm\n",
    "import spacy\n",
    "from spacy.tokens import DocBin\n",
    "\n",
    "#nlp = spacy.blank(\"en\") # load a new spacy model\n",
    "nlp = spacy.load(\"en_core_web_sm\") # load other spacy model\n",
    "\n",
    "db = DocBin() # create a DocBin object\n",
    "\n",
    "for text, annot in tqdm(TRAIN_DATA): # data in previous format\n",
    "    doc = nlp.make_doc(text) # create doc object from text\n",
    "    ents = []\n",
    "    for start, end, label in annot[\"entities\"]: # add character indexes\n",
    "        span = doc.char_span(start, end, label=label, alignment_mode=\"contract\")\n",
    "        if span is None:\n",
    "            print(\"Skipping entity\")\n",
    "        else:\n",
    "            ents.append(span)\n",
    "    doc.ents = ents # label the text with the ents\n",
    "    db.add(doc)\n",
    "current_folder = os.getcwd()\n",
    "print(\"Current folder path:\", current_folder)\n",
    "os.chdir(current_folder)\n",
    "db.to_disk(\"./train.spacy\") # save the docbin object"
   ]
  },
  {
   "cell_type": "code",
   "execution_count": 25,
   "metadata": {},
   "outputs": [
    {
     "data": {
      "text/html": [
       "<span class=\"tex2jax_ignore\"><div class=\"entities\" style=\"line-height: 2.5; direction: ltr\">My name is \n",
       "<mark class=\"entity\" style=\"background: #ddd; padding: 0.45em 0.6em; margin: 0 0.25em; line-height: 1; border-radius: 0.35em;\">\n",
       "    Siya Philip\n",
       "    <span style=\"font-size: 0.8em; font-weight: bold; line-height: 1; border-radius: 0.35em; vertical-align: middle; margin-left: 0.5rem\">FULL_NAME</span>\n",
       "</mark>\n",
       ". My address is \n",
       "<mark class=\"entity\" style=\"background: #ddd; padding: 0.45em 0.6em; margin: 0 0.25em; line-height: 1; border-radius: 0.35em;\">\n",
       "    11-16 Donegall Square East, Belfast, BT1\n",
       "    <span style=\"font-size: 0.8em; font-weight: bold; line-height: 1; border-radius: 0.35em; vertical-align: middle; margin-left: 0.5rem\">ADDRESS</span>\n",
       "</mark>\n",
       " 5UB. I have a friend named \n",
       "<mark class=\"entity\" style=\"background: #ddd; padding: 0.45em 0.6em; margin: 0 0.25em; line-height: 1; border-radius: 0.35em;\">\n",
       "    Hannah\n",
       "    <span style=\"font-size: 0.8em; font-weight: bold; line-height: 1; border-radius: 0.35em; vertical-align: middle; margin-left: 0.5rem\">FULL_NAME</span>\n",
       "</mark>\n",
       ".</div></span>"
      ],
      "text/plain": [
       "<IPython.core.display.HTML object>"
      ]
     },
     "metadata": {},
     "output_type": "display_data"
    }
   ],
   "source": [
    "nlp1 = spacy.load(r\".\\output\\model-best\") #load the best model\n",
    "doc = nlp1(\"My name is Siya Philip. My address is 11-16 Donegall Square East, Belfast, BT1 5UB. I have a friend named Hannah.\") # input sample text\n",
    "\n",
    "spacy.displacy.render(doc, style=\"ent\", jupyter=True) # display in Jupyter"
   ]
  },
  {
   "cell_type": "code",
   "execution_count": 37,
   "metadata": {},
   "outputs": [
    {
     "name": "stdout",
     "output_type": "stream",
     "text": [
      "Entity: Siya Philip, Label: FULL_NAME\n",
      "Entity: 11-16 Donegall Square East, Belfast, BT1, Label: ADDRESS\n",
      "Entity: Hannah, Label: FULL_NAME\n"
     ]
    }
   ],
   "source": [
    "#entity_dict = {}\n",
    "for ent in doc.ents:\n",
    "    #entity_dict[ent.label_] = ent.text\n",
    "    print(\"Entity: {}, Label: {}\".format(ent.text, ent.label_))\n",
    "#print(entity_dict)"
   ]
  },
  {
   "cell_type": "code",
   "execution_count": 27,
   "metadata": {},
   "outputs": [
    {
     "name": "stdout",
     "output_type": "stream",
     "text": [
      "{'FULL_NAME': 'Hannah', 'ADDRESS': '11-16 Donegall Square East, Belfast, BT1'}\n"
     ]
    }
   ],
   "source": [
    "# Initialize an empty dictionary to store entity texts\n",
    "#entity_dict = {}\n",
    "\n",
    "# Iterate over the entities in the document\n",
    "#for ent in doc.ents:\n",
    "    # Store the text of each entity in the dictionary with its label as the key\n",
    "    #entity_dict[ent.label_] = ent.text\n",
    "\n",
    "# Print the dictionary of entity texts\n",
    "#print(entity_dict)"
   ]
  },
  {
   "cell_type": "code",
   "execution_count": 38,
   "metadata": {},
   "outputs": [
    {
     "name": "stdout",
     "output_type": "stream",
     "text": [
      "Fake Data:\n",
      "{'FULL_NAME': ['Karen Gutierrez', 'Tammy Foster'], 'ADDRESS': ['07419 Ronald Tunnel\\nRobinsonside, DC 78283']}\n",
      "\n",
      "Unmasked Data:\n",
      "{'FULL_NAME': ['Siya Philip', 'Hannah'], 'ADDRESS': ['11-16 Donegall Square East, Belfast, BT1']}\n"
     ]
    }
   ],
   "source": [
    "from faker import Faker\n",
    "\n",
    "# Initialize Faker object\n",
    "faker = Faker()\n",
    "\n",
    "# Initialize empty dictionaries to store fake data and mapping\n",
    "fake_data = {}\n",
    "fake_to_original_mapping = {}\n",
    "\n",
    "# Function to generate a fake National Insurance Number (NIN)\n",
    "def generate_fake_nin():\n",
    "    # Customize this function to generate a fake NIN based on the specific format and rules\n",
    "    return faker.numerify(text=\"##########\")\n",
    "\n",
    "# Iterate over the identified entity texts\n",
    "for ent in doc.ents:\n",
    "    # Generate fake data based on the entity label\n",
    "    label = ent.label_\n",
    "    text = ent.text\n",
    "    if label == \"FULL_NAME\":\n",
    "        fake_name = faker.name()\n",
    "        # If there are multiple PII entities with the same label, store them in a list\n",
    "        if label not in fake_data:\n",
    "            fake_data[label] = []\n",
    "        fake_data[label].append(fake_name)\n",
    "        fake_to_original_mapping[fake_name] = text\n",
    "    elif label == \"ADDRESS\":\n",
    "        fake_address = faker.address()\n",
    "        # If there are multiple PII entities with the same label, store them in a list\n",
    "        if label not in fake_data:\n",
    "            fake_data[label] = []\n",
    "        fake_data[label].append(fake_address)\n",
    "        fake_to_original_mapping[fake_address] = text\n",
    "    elif label == \"NATIONAL_INSURANCE_NUMBER\":\n",
    "        fake_nin = generate_fake_nin()\n",
    "        # If there are multiple PII entities with the same label, store them in a list\n",
    "        if label not in fake_data:\n",
    "            fake_data[label] = []\n",
    "        fake_data[label].append(fake_nin)\n",
    "        fake_to_original_mapping[fake_nin] = text\n",
    "    # Add more conditions for other types of entities as needed\n",
    "\n",
    "# Print the dictionary of fake data\n",
    "print(\"Fake Data:\")\n",
    "print(fake_data)\n",
    "\n",
    "# Now, to unmask the fake data and retrieve the original values:\n",
    "# Initialize empty dictionaries to store the unmasked data\n",
    "unmasked_data = {}\n",
    "\n",
    "# Iterate over the fake data and use the mapping to retrieve the original values\n",
    "for label, fake_values in fake_data.items():\n",
    "    original_values = []\n",
    "    for fake_value in fake_values:\n",
    "        original_value = fake_to_original_mapping.get(fake_value, fake_value)\n",
    "        original_values.append(original_value)\n",
    "    unmasked_data[label] = original_values\n",
    "\n",
    "# Print the dictionary of unmasked data\n",
    "print(\"\\nUnmasked Data:\")\n",
    "print(unmasked_data)\n"
   ]
  },
  {
   "cell_type": "code",
   "execution_count": 39,
   "metadata": {},
   "outputs": [
    {
     "name": "stdout",
     "output_type": "stream",
     "text": [
      "Modified Text:\n",
      "My name is Austin Atkins. My address is 747 Jessica Square Apt. 109\n",
      "Lake Allen, GA 57120 5UB. I have a friend named Christina Barker.\n"
     ]
    }
   ],
   "source": [
    "from faker import Faker\n",
    "\n",
    "# Initialize Faker object\n",
    "faker = Faker()\n",
    "\n",
    "# Sample input text\n",
    "input_text = \"My name is Siya Philip. My address is 11-16 Donegall Square East, Belfast, BT1 5UB. I have a friend named Hannah.\"\n",
    "\n",
    "# Initialize empty string to store modified text\n",
    "modified_text = input_text\n",
    "\n",
    "# Iterate over the identified entities\n",
    "for ent in doc.ents:\n",
    "    label = ent.label_\n",
    "    text = ent.text\n",
    "    # Generate fake data based on the entity label\n",
    "    if label == \"FULL_NAME\":\n",
    "        fake_name = faker.name()\n",
    "        # Replace the entity text with the fake name in the modified text\n",
    "        modified_text = modified_text.replace(text, fake_name)\n",
    "    elif label == \"ADDRESS\":\n",
    "        fake_address = faker.address()\n",
    "        # Replace the entity text with the fake address in the modified text\n",
    "        modified_text = modified_text.replace(text, fake_address)\n",
    "    elif label == \"NATIONAL_INSURANCE_NUMBER\":\n",
    "        fake_nin = generate_fake_nin()\n",
    "        # Replace the entity text with the fake NIN in the modified text\n",
    "        modified_text = modified_text.replace(text, fake_nin)\n",
    "\n",
    "# Print the modified text\n",
    "print(\"Modified Text:\")\n",
    "print(modified_text)\n"
   ]
  }
 ],
 "metadata": {
  "kernelspec": {
   "display_name": "Python 3",
   "language": "python",
   "name": "python3"
  },
  "language_info": {
   "codemirror_mode": {
    "name": "ipython",
    "version": 3
   },
   "file_extension": ".py",
   "mimetype": "text/x-python",
   "name": "python",
   "nbconvert_exporter": "python",
   "pygments_lexer": "ipython3",
   "version": "3.11.7"
  }
 },
 "nbformat": 4,
 "nbformat_minor": 2
}
